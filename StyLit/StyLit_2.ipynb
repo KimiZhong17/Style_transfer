{
 "cells": [
  {
   "cell_type": "code",
   "execution_count": 10,
   "id": "db8b0006",
   "metadata": {},
   "outputs": [],
   "source": [
    "import cv2\n",
    "import numpy as np\n",
    "import matplotlib.pyplot as plt\n",
    "\n",
    "from PIL import Image\n",
    "from scipy.optimize import curve_fit"
   ]
  },
  {
   "cell_type": "code",
   "execution_count": 11,
   "id": "5a50df7e",
   "metadata": {},
   "outputs": [],
   "source": [
    "def load_image(infilename) :\n",
    "    img = Image.open(infilename)\n",
    "    img.load()\n",
    "    data = np.asarray(img, dtype=\"uint8\")\n",
    "    return data\n",
    "\n",
    "def rescale_images(images, scale):\n",
    "    if type(scale) == float:\n",
    "        return np.stack([cv2.resize(images[:,:,i], None, fx=scale, fy=scale) for i in range(images.shape[2])], 2)\n",
    "    elif len(scale) == 2:\n",
    "        return np.stack([cv2.resize(images[:,:,i], scale[::-1]) for i in range(images.shape[2])], 2)\n",
    "\n",
    "def save_image(npdata, outfilename) :\n",
    "    outimg = Image.fromarray(npdata, \"RGB\")\n",
    "    outimg.save(outfilename)\n",
    "\n",
    "def show_image(image):\n",
    "    plt.ion()\n",
    "    plt.imshow(image)\n",
    "    plt.show()\n",
    "    plt.pause(0.05)\n",
    "\n",
    "def load_stylit_images(guidance_influence = 2.0, style = \"style\", channels = (\"fullgi\", \"dirdif\", \"dirspc\", \"indirb\"), scale=1.0):\n",
    "    '''\n",
    "    Outputs:\n",
    "        - source: [:, :, :3] the place for stylized image\n",
    "                  [:, :, 3:] the image with different shading considerations (e.g. diffuse, specular, ...)\n",
    "        - target: [:, :, :3] simple sphere indicating the desired style\n",
    "                  [:, :, 3:] simple sphere indicating different channels of lighting\n",
    "        - channel_weights\n",
    "    '''\n",
    "    prefix = \"images/source_\"\n",
    "    suffix = \".png\"\n",
    "    source = np.concatenate([load_image(prefix + channel + suffix) for channel in (style,) + channels], 2)\n",
    "    prefix = \"images/target_\"\n",
    "    target = np.concatenate([load_image(prefix + channel + suffix) for channel in channels], 2)\n",
    "    output = np.zeros((target.shape[0],target.shape[1],3), dtype=\"uint8\")\n",
    "    target = np.concatenate((output, target), 2)\n",
    "    channel_weights = np.array([1.0]*3 + [guidance_influence/float(len(channels))]*3*len(channels))\n",
    "    if scale != 1.0:\n",
    "        source = rescale_images(source, scale)\n",
    "        target = rescale_images(target, scale)\n",
    "    return source, target, channel_weights"
   ]
  },
  {
   "cell_type": "code",
   "execution_count": 12,
   "id": "b1528739",
   "metadata": {},
   "outputs": [],
   "source": [
    "# x,y specifies the pixel position of a patch center\n",
    "def get_patch(image, x, y, patch_radius): \n",
    "    return image[int(y)-patch_radius : int(y)+patch_radius+1, int(x)-patch_radius : int(x)+patch_radius+1]\n",
    "\n",
    "# ======================== initializations ===========================\n",
    "def init_offsets_and_best_D(a_size, b_size, patch_size, b_mask):\n",
    "    a_size = np.array(a_size[:2])-(patch_size-1)\n",
    "    b_size = np.array(b_size[:2])-(patch_size-1)\n",
    "    allowed_targets_y, allowed_targets_x = np.nonzero(b_mask == 0)\n",
    "    selected_targets = np.random.randint(len(allowed_targets_x), size=a_size[:2])\n",
    "    offsets_y = allowed_targets_y[selected_targets] - np.arange(a_size[0]).reshape((a_size[0],1))\n",
    "    offsets_x = allowed_targets_x[selected_targets] - np.arange(a_size[1]).reshape((1,a_size[1]))\n",
    "    best_d = np.zeros(a_size[:2])\n",
    "    offsets_and_best_D = np.stack((offsets_y, offsets_x, best_d), 2)\n",
    "    return offsets_and_best_D\n",
    "\n",
    "def calculate_D(a, b, a_x, a_y, offset_x, offset_y, patch_radius, channel_weights):\n",
    "    patch_a = get_patch(a, a_x, a_y, patch_radius)\n",
    "    patch_b = get_patch(b, a_x+offset_x, a_y+offset_y, patch_radius)\n",
    "    diff = patch_a - patch_b\n",
    "    if channel_weights is None:\n",
    "        return np.sum(diff * diff)\n",
    "    else:\n",
    "        return np.inner(np.sum(diff * diff, (0,1)), channel_weights)\n",
    "\n",
    "def assign_initial_D(a, b, offsets, patch_radius, channel_weights, a_mask):\n",
    "    height, width = offsets.shape[:2]\n",
    "    for i in range(height):\n",
    "        y = i + patch_radius\n",
    "        for j in range(width):\n",
    "            if a_mask is not None and a_mask[i, j]:\n",
    "                continue\n",
    "            x = j + patch_radius\n",
    "            offsets[i,j,2] = calculate_D(a, b, x, y, offsets[i,j,1], offsets[i,j,0], patch_radius, channel_weights)\n",
    "\n",
    "# ==================== iterations: propagate & random search ===========================     \n",
    "def propagate(offsets, i, j, delta_i, delta_j, a, b, x, y, patch_radius, channel_weights, b_mask):\n",
    "    neighbor_offset_y, neighbor_offset_x, neighbor_best_D = offsets[i + delta_i, j + delta_j]\n",
    "    try:\n",
    "        if b_mask[int(i + neighbor_offset_y), int(j + neighbor_offset_x)]: # Don't propagate offsets pointing to masked regions\n",
    "            return\n",
    "        D_using_neighbor_offset = calculate_D(a, b, x, y, neighbor_offset_x, neighbor_offset_y, patch_radius, channel_weights)  # (Can optimize this)\n",
    "    except (ValueError, IndexError): # TODO: Handle this better\n",
    "        return # Patch ends up outside B when using the neighbor's offset, so don't use it\n",
    "    if D_using_neighbor_offset < offsets[i, j, 2]:\n",
    "        offsets[i, j, :] = neighbor_offset_y, neighbor_offset_x, D_using_neighbor_offset\n",
    "\n",
    "def random_search(offsets, i, j, b_offsets_size, search_windows, a, b, x, y, patch_radius, channel_weights, b_mask):\n",
    "    min_offset = -np.array([i, j])\n",
    "    max_offset = min_offset + b_offsets_size\n",
    "    for window_radius in search_windows:\n",
    "        min_window = np.maximum(min_offset, offsets[i, j, :2] - window_radius)\n",
    "        max_window = np.minimum(max_offset, offsets[i, j, :2] + window_radius)\n",
    "        try_offset_y = np.random.randint(min_window[0], max_window[0])\n",
    "        try_offset_x = np.random.randint(min_window[1], max_window[1])\n",
    "        while b_mask[int(i + try_offset_y), int(j + try_offset_x)]: # While offset leads to masked point, try again. May want to optimize this.\n",
    "            try_offset_y = np.random.randint(min_window[0], max_window[0])\n",
    "            try_offset_x = np.random.randint(min_window[1], max_window[1])\n",
    "        try_D = calculate_D(a, b, x, y, try_offset_x, try_offset_y, patch_radius, channel_weights)\n",
    "        if try_D < offsets[i, j, 2]:\n",
    "            offsets[i, j, :] = try_offset_y, try_offset_x, try_D\n",
    "\n",
    "# ============================= patchmatch =============================\n",
    "def patchmatch(a, b, a_mask, b_mask, patchmatch_iterations = 6, patch_size = 5, \n",
    "               iteration_callback=None, scanline_callback_every_nth=50, \n",
    "               offsets=None, channel_weights=None):\n",
    "    patch_radius = int((patch_size - 1) / 2)\n",
    "    if offsets is None:\n",
    "        offsets = init_offsets_and_best_D(a.shape, b.shape, patch_size, b_mask)\n",
    "    elif a_mask is not None:\n",
    "        original_offsets = offsets\n",
    "        offsets = init_offsets_and_best_D(a.shape, b.shape, patch_size, b_mask)\n",
    "        indices = np.nonzero(a_mask)\n",
    "        offsets[indices] = original_offsets[indices]\n",
    "    b_offsets_size = np.array(b.shape[:2])-(patch_size-1)\n",
    "    height, width = offsets.shape[:2]\n",
    "    max_search_radius = max(height, width)\n",
    "    window_size_ratio = 0.5\n",
    "    num_search_windows = 1 + int(-np.log(max_search_radius)/np.log(window_size_ratio)) # All possible windows larger than 1 pixel\n",
    "    print(\"num_search_windows = \" + str(num_search_windows))\n",
    "    search_windows = [max_search_radius * window_size_ratio ** i for i in range(num_search_windows)]\n",
    "\n",
    "    assign_initial_D(a, b, offsets, patch_radius, channel_weights, a_mask)\n",
    "\n",
    "    for patchmatch_iteration in range(int(patchmatch_iterations/2)):\n",
    "        # Right-down iteration\n",
    "        for i in range(height):\n",
    "            y = i + patch_radius\n",
    "            for j in range(width):\n",
    "                if a_mask is not None and a_mask[i,j]:\n",
    "                    continue\n",
    "                x = j + patch_radius\n",
    "                # Propagation\n",
    "                if j > 0:\n",
    "                    propagate(offsets, i, j, 0, -1, a, b, x, y, patch_radius, channel_weights, b_mask)\n",
    "                if i > 0:\n",
    "                    propagate(offsets, i, j, -1, 0, a, b, x, y, patch_radius, channel_weights, b_mask)\n",
    "                # Random search\n",
    "                random_search(offsets, i, j, b_offsets_size, search_windows, a, b, x, y, patch_radius, channel_weights, b_mask)\n",
    "            if i % scanline_callback_every_nth == 0:\n",
    "                if iteration_callback is not None:\n",
    "                    iteration_callback(patchmatch_iteration, i, offsets, a, b, patch_radius)\n",
    "        # Left-up iteration\n",
    "        for i in range(height-1,-1,-1):\n",
    "            y = i + patch_radius\n",
    "            for j in range(width-1,-1,-1):\n",
    "                if a_mask is not None and a_mask[i,j]:\n",
    "                    continue\n",
    "                x = j + patch_radius\n",
    "                # Propagation\n",
    "                if j < width-1:\n",
    "                    propagate(offsets, i, j, 0, 1, a, b, x, y, patch_radius, channel_weights, b_mask)\n",
    "                if i < height-1:\n",
    "                    propagate(offsets, i, j, 1, 0, a, b, x, y, patch_radius, channel_weights, b_mask)\n",
    "                # Random search\n",
    "                random_search(offsets, i, j, b_offsets_size, search_windows, a, b, x, y, patch_radius, channel_weights, b_mask)\n",
    "            if i % scanline_callback_every_nth == 0:\n",
    "                if iteration_callback is not None:\n",
    "                    iteration_callback(patchmatch_iteration, i, offsets, a, b, patch_radius)\n",
    "        if iteration_callback is not None:\n",
    "            iteration_callback(patchmatch_iteration, None, offsets, a, b, patch_radius)\n",
    "    return offsets\n",
    "\n",
    "# ============== Reconstruct an image using the calculated offsets ===================\n",
    "def reconstruct_image(offsets, a, b, patch_radius):\n",
    "    reconstruction = np.zeros(a.shape)\n",
    "    count = np.zeros(a.shape)\n",
    "    height, width = offsets.shape[:2]\n",
    "    for i in range(height):\n",
    "        y = i + patch_radius\n",
    "        for j in range(width):\n",
    "            x = j + patch_radius\n",
    "            patch = get_patch(b, x + offsets[i, j, 1], y + offsets[i, j, 0], patch_radius)\n",
    "            reconstruction[y - patch_radius : y + patch_radius + 1, x - patch_radius : x + patch_radius + 1] += patch\n",
    "            count[y - patch_radius: y + patch_radius + 1, x - patch_radius: x + patch_radius + 1] += 1\n",
    "    reconstruction /= count\n",
    "    return reconstruction.astype(\"uint8\")\n",
    "\n",
    "def iteration_callback(iteration, scanline, offsets, a, b, patch_radius):\n",
    "    if scanline is None:\n",
    "        print(\"Patchmatch iteration \" + str(iteration))\n",
    "    else:\n",
    "        print(\"   Scanline \" + str(scanline))\n",
    "    show_image(reconstruct_image(offsets, a, b, patch_radius))\n",
    "\n",
    "\n",
    "#if __name__ == \"__main__\":\n",
    "#    a = load_image(\"test_a.jpg\")\n",
    "#    b = load_image(\"test_b.jpg\")\n",
    "#    patchmatch(a, b, iteration_callback=iteration_callback)"
   ]
  },
  {
   "cell_type": "code",
   "execution_count": 19,
   "id": "e382629d",
   "metadata": {},
   "outputs": [],
   "source": [
    "source, target, channel_weights = load_stylit_images()\n",
    "\n",
    "num_pyramid_levels = 7 # 6\n",
    "a_w, a_h = 400, 400\n",
    "a = target\n",
    "a_guides_original = np.copy(target[:,:,3:])\n",
    "b_original = source\n",
    "a = rescale_images(a, 0.5 ** (num_pyramid_levels - 1))\n",
    "b = rescale_images(b_original, 0.5 ** (num_pyramid_levels - 1))"
   ]
  },
  {
   "cell_type": "code",
   "execution_count": 22,
   "id": "19adf25e",
   "metadata": {},
   "outputs": [],
   "source": [
    "patch_size = 5  # [23, 13, 5][iteration]\n",
    "patch_radius = int((patch_size - 1) / 2)\n",
    "a_size = np.array(a.shape[:2]) - (patch_size - 1)\n",
    "b_size = np.array(b.shape[:2]) - (patch_size - 1)\n",
    "offsets = get_offsets_all_pointing_at_same_point(a_size) #np.zeros((a_size[0], a_size[1], 3))\n",
    "num_target_patches = a_size[0] * a_size[1]"
   ]
  },
  {
   "cell_type": "code",
   "execution_count": 37,
   "id": "65ef7f44",
   "metadata": {},
   "outputs": [
    {
     "name": "stdout",
     "output_type": "stream",
     "text": [
      "num_search_windows = 4\n"
     ]
    }
   ],
   "source": [
    "patch_radius = int((patch_size - 1) / 2)\n",
    "offsets = init_offsets_and_best_D(a.shape, b.shape, patch_size, offsets[:,:,2] != 0)\n",
    "a_mask = None\n",
    "b_offsets_size = np.array(b.shape[:2])-(patch_size-1)\n",
    "height, width = offsets.shape[:2]\n",
    "max_search_radius = max(height, width)\n",
    "window_size_ratio = 0.5\n",
    "num_search_windows = 1 + int(-np.log(max_search_radius)/np.log(window_size_ratio)) # All possible windows larger than 1 pixel\n",
    "print(\"num_search_windows = \" + str(num_search_windows))\n",
    "search_windows = [max_search_radius * window_size_ratio ** i for i in range(num_search_windows)]\n",
    "assign_initial_D(a, b, offsets, patch_radius, channel_weights, a_mask)"
   ]
  },
  {
   "cell_type": "code",
   "execution_count": 43,
   "id": "12c0d3e8",
   "metadata": {},
   "outputs": [
    {
     "name": "stdout",
     "output_type": "stream",
     "text": [
      "(14, 19, 15)\n"
     ]
    }
   ],
   "source": [
    "print(a.shape)"
   ]
  },
  {
   "cell_type": "code",
   "execution_count": 8,
   "id": "7f2956b1",
   "metadata": {
    "scrolled": true
   },
   "outputs": [],
   "source": [
    "def iteration_callback(iteration, scanline, offsets, a, b, patch_radius):\n",
    "    if scanline is None:\n",
    "        print(\"Patchmatch iteration \" + str(iteration))\n",
    "    else:\n",
    "        print(\"   Scanline \" + str(scanline))\n",
    "    show_image(reconstruct_image(offsets, a[:,:,:3], b[:,:,:3], patch_radius))\n",
    "\n",
    "def hyperbolic_function(x, a, b):\n",
    "    return 1.0/(a - b * x)\n",
    "\n",
    "# Returns the number of performed assignments\n",
    "def perform_good_assignments(offsets, reversed_offsets, a_size, b_size):\n",
    "    temp_offsets = np.zeros((a_size[0], a_size[1], 3))\n",
    "    for i in range(b_size[0]):\n",
    "        for j in range(b_size[1]):\n",
    "\n",
    "            if temp_offsets[int(i+reversed_offsets[i,j,0]),int(j+reversed_offsets[i,j,1]),2] != 0: # If collision, keep the best assignment\n",
    "                if reversed_offsets[i,j,2] < temp_offsets[int(i+reversed_offsets[i,j,0]),int(j+reversed_offsets[i,j,1]),2]:\n",
    "                    temp_offsets[i + int(reversed_offsets[i, j, 0]), int(j + reversed_offsets[i, j, 1]), :2] = -reversed_offsets[i,j,:2]\n",
    "                    temp_offsets[i + int(reversed_offsets[i, j, 0]), int(j + reversed_offsets[i, j, 1]), 2] = reversed_offsets[i,j,2]\n",
    "            else:\n",
    "                temp_offsets[i + int(reversed_offsets[i, j, 0]), int(j + reversed_offsets[i, j, 1]), :2] = -reversed_offsets[i, j,:2]\n",
    "                temp_offsets[i + int(reversed_offsets[i, j, 0]), int(j + reversed_offsets[i, j, 1]), 2] = reversed_offsets[i, j, 2]\n",
    "\n",
    "    i_indices, j_indices = np.nonzero(temp_offsets[:,:,2])\n",
    "    errors = temp_offsets[i_indices, j_indices, 2]\n",
    "    sort_indices = np.argsort(errors)\n",
    "    sorted_errors = errors[sort_indices]\n",
    "    sorted_i_indices = i_indices[sort_indices]\n",
    "    sorted_j_indices = j_indices[sort_indices]\n",
    "    \n",
    "    # \n",
    "    if len(errors) > 5:\n",
    "\n",
    "        # Normalize\n",
    "        yvals = np.array(sorted_errors) - sorted_errors[0] # all - minimum\n",
    "        D_range = yvals[-1] # maximum\n",
    "        yvals = yvals / D_range # scale to [0,1]\n",
    "        xvals = np.array(range(len(i_indices)))\n",
    "        xvals = xvals/xvals[-1] # also scale to [0,1]\n",
    "\n",
    "        plt.clf()\n",
    "        plt.plot(xvals, yvals)\n",
    "\n",
    "        #print(xvals)\n",
    "        #print(yvals)\n",
    "        (a,b),_ = curve_fit(hyperbolic_function, xvals, yvals, p0=(20, 19))\n",
    "        plt.plot(xvals, hyperbolic_function(xvals, a, b))\n",
    "        knee_point_x = -(1.0 / b) ** 0.5 + a / b # the point where derivative == 1\n",
    "        knee_point_y = hyperbolic_function(knee_point_x, a, b)\n",
    "        plt.scatter(knee_point_x, knee_point_y)\n",
    "        knee_point_D = sorted_errors[0] + knee_point_y*D_range\n",
    "        print(\"Knee point D at \" + str(knee_point_D) + \", including \" + str(int(knee_point_x*100)) + \"% of the assignments\")\n",
    "        knee_point_index = int(knee_point_x * len(sorted_errors))\n",
    "        plt.savefig(\"errors.png\")\n",
    "        plt.clf()\n",
    "    else:\n",
    "        knee_point_index = len(errors)\n",
    "\n",
    "    # Perform the assignments that are before the knee point\n",
    "    offsets[sorted_i_indices[:knee_point_index], sorted_j_indices[:knee_point_index], :] = temp_offsets[sorted_i_indices[:knee_point_index], sorted_j_indices[:knee_point_index], :]\n",
    "    return knee_point_index\n",
    "\n",
    "def get_offsets_all_pointing_at_same_point(a_size):\n",
    "    offsets_y = np.zeros(a_size[:2]) - np.arange(a_size[0]).reshape((a_size[0], 1))\n",
    "    offsets_x = np.zeros(a_size[:2]) - np.arange(a_size[1]).reshape((1, a_size[1]))\n",
    "    best_d = np.zeros(a_size[:2])\n",
    "    offsets_and_best_D = np.stack((offsets_y, offsets_x, best_d), 2)\n",
    "    return offsets_and_best_D"
   ]
  },
  {
   "cell_type": "code",
   "execution_count": 9,
   "id": "46b766a2",
   "metadata": {},
   "outputs": [
    {
     "name": "stdout",
     "output_type": "stream",
     "text": [
      "num_search_windows = 11\n",
      "Knee point D at 13371.386199533084, including 79% of the assignments\n",
      "78% of patches assigned\n"
     ]
    },
    {
     "data": {
      "image/png": "[encoded data removed]",
      "text/plain": [
       "<Figure size 432x288 with 1 Axes>"
      ]
     },
     "metadata": {
      "needs_background": "light"
     },
     "output_type": "display_data"
    },
    {
     "name": "stdout",
     "output_type": "stream",
     "text": [
      "num_search_windows = 11\n",
      "Knee point D at 13254.47557932862, including 72% of the assignments\n",
      "94% of patches assigned\n"
     ]
    },
    {
     "data": {
      "image/png": "[encoded data removed]",
      "text/plain": [
       "<Figure size 432x288 with 1 Axes>"
      ]
     },
     "metadata": {
      "needs_background": "light"
     },
     "output_type": "display_data"
    },
    {
     "name": "stdout",
     "output_type": "stream",
     "text": [
      "num_search_windows = 11\n",
      "Knee point D at 14246.134938095205, including 86% of the assignments\n",
      "98% of patches assigned\n"
     ]
    },
    {
     "data": {
      "image/png": "[encoded data removed]",
      "text/plain": [
       "<Figure size 432x288 with 1 Axes>"
      ]
     },
     "metadata": {
      "needs_background": "light"
     },
     "output_type": "display_data"
    },
    {
     "name": "stdout",
     "output_type": "stream",
     "text": [
      "num_search_windows = 4\n",
      "Solved last assignments with standard patchmatch\n"
     ]
    },
    {
     "data": {
      "image/png": "[encoded data removed]",
      "text/plain": [
       "<Figure size 432x288 with 1 Axes>"
      ]
     },
     "metadata": {
      "needs_background": "light"
     },
     "output_type": "display_data"
    },
    {
     "name": "stdout",
     "output_type": "stream",
     "text": [
      "Wall time: 2h 41min 1s\n"
     ]
    }
   ],
   "source": [
    "%%time\n",
    "\n",
    "if __name__ == \"__main__\":\n",
    "    source, target, channel_weights = load_stylit_images()\n",
    "\n",
    "    num_pyramid_levels = 7 # 6\n",
    "    a_w, a_h = 400, 400\n",
    "    a = target\n",
    "    a_guides_original = np.copy(target[:,:,3:])\n",
    "    b_original = source\n",
    "    a = rescale_images(a, 0.5 ** (num_pyramid_levels - 1))\n",
    "\n",
    "\n",
    "    for pyramid_level in range(num_pyramid_levels):\n",
    "        b = rescale_images(b_original, 0.5 ** (num_pyramid_levels - 1 - pyramid_level))\n",
    "        for iteration in range(1):\n",
    "            patch_size = 5  # [23, 13, 5][iteration]\n",
    "            if patch_size >= min(a_w, a_h, b.shape[0], b.shape[1]):\n",
    "                continue\n",
    "            patch_radius = int((patch_size - 1) / 2)\n",
    "            a_size = np.array(a.shape[:2]) - (patch_size - 1)\n",
    "            b_size = np.array(b.shape[:2]) - (patch_size - 1)\n",
    "            offsets = get_offsets_all_pointing_at_same_point(a_size) #np.zeros((a_size[0], a_size[1], 3))\n",
    "            num_target_patches = a_size[0] * a_size[1]\n",
    "            num_assignments = 0\n",
    "            while num_assignments/num_target_patches < 0.95:\n",
    "                # Reversed NNF retrieval\n",
    "                reversed_offsets = patchmatch(b, a, None, offsets[:,:,2] != 0, patchmatch_iterations=6, patch_size=patch_size,\n",
    "                                     iteration_callback=None, offsets=None, channel_weights=channel_weights)\n",
    "                # Sort potential patch assignments\n",
    "                num_assignments += perform_good_assignments(offsets, reversed_offsets, a_size, b_size)\n",
    "                print(str(int(100*num_assignments / num_target_patches)) + \"% of patches assigned\")\n",
    "                show_image(reconstruct_image(offsets, a[:,:,:3], b[:,:,:3], patch_radius))\n",
    "            if num_assignments != num_target_patches:\n",
    "                # Solve remaining 5% with standard target-to-source patchmatch\n",
    "                offsets = patchmatch(a, b, offsets[:,:,2] != 0, np.zeros(b_size), patchmatch_iterations=6, patch_size=patch_size,\n",
    "                                     iteration_callback=None, offsets=offsets, channel_weights=channel_weights)\n",
    "                print(\"Solved last assignments with standard patchmatch\")\n",
    "                show_image(reconstruct_image(offsets, a[:, :, :3], b[:, :, :3], patch_radius))\n",
    "                plt.pause(1.0)\n",
    "            a[:,:,:3] = reconstruct_image(offsets, a[:,:,:3], b[:,:,:3], patch_radius)\n",
    "\n",
    "            # a[:,:,:3] = reconstruct_image(offsets, a[:,:,:3], b[:,:,:3], patch_radius)\n",
    "            # print(\"Finished texture syntesis iteration \" + str(iteration))\n",
    "            # show_image(a[:,:,:3])\n",
    "        save_image(a[:, :, :3], \"output.png\")\n",
    "        rescaled_output = rescale_images(a[:,:,:3], 2.0)\n",
    "        if pyramid_level < num_pyramid_levels-1:\n",
    "            a = np.concatenate((rescaled_output, rescale_images(a_guides_original, rescaled_output.shape[:2])), 2)"
   ]
  }
 ],
 "metadata": {
  "kernelspec": {
   "display_name": "Python [conda env:tensorflow]",
   "language": "python",
   "name": "conda-env-tensorflow-py"
  },
  "language_info": {
   "codemirror_mode": {
    "name": "ipython",
    "version": 3
   },
   "file_extension": ".py",
   "mimetype": "text/x-python",
   "name": "python",
   "nbconvert_exporter": "python",
   "pygments_lexer": "ipython3",
   "version": "3.9.5"
  }
 },
 "nbformat": 4,
 "nbformat_minor": 5
}
